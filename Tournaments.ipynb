{
 "cells": [
  {
   "cell_type": "markdown",
   "metadata": {},
   "source": [
    "# Tournaments\n",
    "\n",
    "This creates a list of tournaments played in a given year range"
   ]
  },
  {
   "cell_type": "code",
   "execution_count": 1,
   "metadata": {},
   "outputs": [],
   "source": [
    "import sys\n",
    "import numpy as np\n",
    "import pandas as pd\n",
    "from functions import tournaments, matches, players\n",
    "\n",
    "pd.set_option('expand_frame_repr', False)"
   ]
  },
  {
   "cell_type": "markdown",
   "metadata": {},
   "source": [
    "### Configuration\n",
    "Specify which years to generate tournament listings for"
   ]
  },
  {
   "cell_type": "code",
   "execution_count": 2,
   "metadata": {},
   "outputs": [],
   "source": [
    "base_url = \"http://www.atpworldtour.com/\"\n",
    "start_year = \"2018\"\n",
    "end_year   = \"2018\""
   ]
  },
  {
   "cell_type": "code",
   "execution_count": 3,
   "metadata": {},
   "outputs": [
    {
     "name": "stdout",
     "output_type": "stream",
     "text": [
      "AGE:25\n",
      "DOB:1993.01.26\n",
      "Kgs:76kg\n",
      "Cms:180cm\n"
     ]
    },
    {
     "data": {
      "text/plain": [
       "[]"
      ]
     },
     "execution_count": 3,
     "metadata": {},
     "output_type": "execute_result"
    }
   ],
   "source": [
    "players(base_url,[\"/en/players/ricardo-ojeda-lara/o408/\"])"
   ]
  },
  {
   "cell_type": "markdown",
   "metadata": {},
   "source": [
    "### Tournament Listing\n",
    "Generate a list of the tournaments that occured for the specified years.\n",
    "\n",
    "For each tournament we store the following attributes:\n",
    " * **Year** - What year did the tournament take place in?\n",
    " * **TourNo** - An incrementing count of the touraments in the year\n",
    " * **Name** - Name of the tournament\n",
    " * **Date** - Date the tournament started\n",
    " * **Conditions** - Outdoor or Indoor\n",
    " * **Surface** - Hard, Clay, Grass etc\n",
    " * **TournamentURL** - The URL where the tournament matches are listed\n",
    " \n",
    " The combination of Year and a tournament number are combined to create a unique index called **TournamentID**.\n",
    " \n",
    " The tournament listing is held in a Pandas DataFrame called dfTours."
   ]
  },
  {
   "cell_type": "code",
   "execution_count": null,
   "metadata": {},
   "outputs": [],
   "source": [
    "# Iterate through the years and scrape tourney data\n",
    "\n",
    "# Initialise an empty DataFrame with the columns we want\n",
    "tournament_columns = ['Year', 'TourNo', 'Name', 'Date', 'Conditions', 'Surface', 'TournamentURL']\n",
    "dfTours = pd.DataFrame([], columns = tournament_columns)\n",
    "\n",
    "for h in range(int(start_year), int(end_year) + 1):\n",
    "    year = str(h)\n",
    "    dfNewTour = pd.DataFrame(tournaments(year), columns = tournament_columns)\n",
    "    dfTours = dfTours.append(dfNewTour)\n",
    "\n",
    "# Create an index of year plus tournament id\n",
    "dfTours['TournamentID'] = dfTours['TournamentURL'].str.split('\\/').str[6] + \"-\" + dfTours['TournamentURL'].str.split('\\/').str[5]\n",
    "dfTours = dfTours.set_index('TournamentID')\n",
    "\n",
    "print(dfTours)"
   ]
  },
  {
   "cell_type": "markdown",
   "metadata": {},
   "source": [
    "## Match Results\n",
    "\n",
    "Generate a list of the matches played in each tournament.\n",
    "\n",
    "For each match the following attributes are recorded:\n",
    " * **TournamentID** - The unique index of dfTours\n",
    " * **MatchID** - An ID assigned to that match.  Only unique within a tournament.\n",
    " * **WinnerID** / **LoserID** - A unique player identifier.\n",
    " * **WinnerURL** / **LoserURL** - The URL of the players details.\n",
    " * **WinnerName** / **LoserName** - The players name.\n",
    " * **WinnerSeed** / **LoserSeed** - If the player is seeded what seed were they?  \"WC\" represents wild-card.\n",
    " * **MatchURL** - The URL where the detailed match statistics are available (not needed).\n",
    " \n",
    "A multi-index of **TournamentID** and **MatchID** can be used to uniquely identify a match.\n",
    "\n",
    "The match results are stored in a Pandas DataFrame called dfMatches."
   ]
  },
  {
   "cell_type": "code",
   "execution_count": null,
   "metadata": {},
   "outputs": [],
   "source": [
    "# Iterate through each tournament and find the URLs with the match details\n",
    "\n",
    "# Initialise an empty DataFrame with the columns we want\n",
    "match_columns = ['TournamentID', 'MatchID', 'WinnerID', 'WinnerURL', 'WinnerName', 'WinnerSeed',\n",
    "                                            'LoserID',  'LoserURL',  'LoserName',  'LoserSeed', \n",
    "                 'MatchURL']\n",
    "dfMatches = pd.DataFrame([], columns=match_columns)\n",
    "\n",
    "for index, tourney in dfTours.iterrows():\n",
    "    tourney_url = tourney['TournamentURL']\n",
    "    tourney_id = tourney_url.split('/')[6] + \"-\" + tourney_url.split('/')[5]\n",
    "    \n",
    "    dfNewMatches = pd.DataFrame(matches(base_url, tourney_url+\"?\", tourney_id), columns = match_columns)\n",
    "    if len(dfNewMatches) > 0:\n",
    "        dfNewMatches['MatchNum'] = max(dfNewMatches.index) - dfNewMatches.index\n",
    "    else:\n",
    "        dfNewMatches['MatchNum'] = 0\n",
    "        \n",
    "    dfMatches = dfMatches.append(dfNewMatches)\n",
    "\n",
    "dfMatches = dfMatches.set_index(['TournamentID', 'MatchID'])\n",
    "dfMatches"
   ]
  },
  {
   "cell_type": "code",
   "execution_count": null,
   "metadata": {},
   "outputs": [],
   "source": []
  },
  {
   "cell_type": "code",
   "execution_count": null,
   "metadata": {},
   "outputs": [],
   "source": []
  },
  {
   "cell_type": "code",
   "execution_count": null,
   "metadata": {},
   "outputs": [],
   "source": []
  }
 ],
 "metadata": {
  "kernelspec": {
   "display_name": "Python [conda env:py3]",
   "language": "python",
   "name": "conda-env-py3-py"
  },
  "language_info": {
   "codemirror_mode": {
    "name": "ipython",
    "version": 3
   },
   "file_extension": ".py",
   "mimetype": "text/x-python",
   "name": "python",
   "nbconvert_exporter": "python",
   "pygments_lexer": "ipython3",
   "version": "3.5.3"
  }
 },
 "nbformat": 4,
 "nbformat_minor": 2
}
